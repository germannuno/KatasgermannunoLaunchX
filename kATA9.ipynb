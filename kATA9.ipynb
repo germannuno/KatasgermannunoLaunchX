{
 "cells": [
  {
   "cell_type": "code",
   "execution_count": 2,
   "metadata": {},
   "outputs": [],
   "source": [
    "def reporte(t1,t2,t3):\n",
    "    promedio = (t1,t2,t3) / 3\n",
    "    return f\"Fuel Report: promedio: {promedio}%t1: {t1}% t2: {t2}%t3: {t3}% \"\n",
    "\n"
   ]
  },
  {
   "cell_type": "code",
   "execution_count": 4,
   "metadata": {},
   "outputs": [
    {
     "data": {
      "text/plain": [
       "82.0"
      ]
     },
     "execution_count": 4,
     "metadata": {},
     "output_type": "execute_result"
    }
   ],
   "source": [
    "def promedio_1(valor):\n",
    "    total = sum(valor)\n",
    "    number_items = len(valor)\n",
    "    return total / number_items\n",
    "\n",
    "promedio_1([80, 85, 81]) "
   ]
  },
  {
   "cell_type": "markdown",
   "metadata": {},
   "source": [
    "Ejercicio 2:"
   ]
  },
  {
   "cell_type": "code",
   "execution_count": 11,
   "metadata": {},
   "outputs": [
    {
     "name": "stdout",
     "output_type": "stream",
     "text": [
      "adonde Moon\n",
      " ttotal: 65 min\n",
      " ftotal: 500000 gall \n"
     ]
    }
   ],
   "source": [
    "def reporte_m(prelanzamiento, tiempo_vuelo, destino, tanque_externo, tanque_interno):\n",
    "    return f\"adonde {destino}\\n ttotal: {prelanzamiento + tiempo_vuelo} min\\n ftotal: {tanque_externo + tanque_interno} gall \"\n",
    "\n",
    "print(reporte_m(14, 51, \"Moon\", 200000, 300000))"
   ]
  },
  {
   "cell_type": "code",
   "execution_count": 12,
   "metadata": {},
   "outputs": [
    {
     "name": "stdout",
     "output_type": "stream",
     "text": [
      "adonde Moon\n",
      " ttotal: 76 min\n",
      " ftotal: 500000\n"
     ]
    }
   ],
   "source": [
    "def reporte_m2(destination, *minutes, **fuel_reservoirs):\n",
    "    return f\"adonde {destination}\\n ttotal: {sum(minutes)} min\\n ftotal: {sum(fuel_reservoirs.values())}\"\n",
    "\n",
    "print(reporte_m2(\"Moon\", 10, 15, 51, main=300000, external=200000))"
   ]
  },
  {
   "cell_type": "code",
   "execution_count": 28,
   "metadata": {},
   "outputs": [
    {
     "ename": "TypeError",
     "evalue": "cannot unpack non-iterable int object",
     "output_type": "error",
     "traceback": [
      "\u001b[1;31m---------------------------------------------------------------------------\u001b[0m",
      "\u001b[1;31mTypeError\u001b[0m                                 Traceback (most recent call last)",
      "Input \u001b[1;32mIn [28]\u001b[0m, in \u001b[0;36m<module>\u001b[1;34m\u001b[0m\n\u001b[0;32m      5\u001b[0m         main_report \u001b[39m+\u001b[39m\u001b[39m=\u001b[39m \u001b[39mf\u001b[39m\u001b[39m\"\u001b[39m\u001b[39m{\u001b[39;00mt_name\u001b[39m}\u001b[39;00m\u001b[39m tank \u001b[39m\u001b[39m{\u001b[39;00mgallo\u001b[39m}\u001b[39;00m\u001b[39m gall left\u001b[39m\u001b[39m\\n\u001b[39;00m\u001b[39m\"\u001b[39m\n\u001b[0;32m      6\u001b[0m     \u001b[39mreturn\u001b[39;00m main_report \n\u001b[1;32m----> 8\u001b[0m \u001b[39mprint\u001b[39m(reporte_m2(\u001b[39m\"\u001b[39;49m\u001b[39mMoon\u001b[39;49m\u001b[39m\"\u001b[39;49m, \u001b[39m8\u001b[39;49m, \u001b[39m11\u001b[39;49m, \u001b[39m55\u001b[39;49m, main\u001b[39m=\u001b[39;49m\u001b[39m300000\u001b[39;49m, external\u001b[39m=\u001b[39;49m\u001b[39m200000\u001b[39;49m))\n",
      "Input \u001b[1;32mIn [28]\u001b[0m, in \u001b[0;36mreporte_m2\u001b[1;34m(destination, *minutes, **fuel_reservoirs)\u001b[0m\n\u001b[0;32m      1\u001b[0m \u001b[39mdef\u001b[39;00m \u001b[39mreporte_m2\u001b[39m(destination, \u001b[39m*\u001b[39mminutes, \u001b[39m*\u001b[39m\u001b[39m*\u001b[39mfuel_reservoirs):\n\u001b[0;32m      2\u001b[0m     main_report \u001b[39m=\u001b[39m \u001b[39mf\u001b[39m\u001b[39m\"\u001b[39m\u001b[39madonde \u001b[39m\u001b[39m{\u001b[39;00mdestination\u001b[39m}\u001b[39;00m\u001b[39m\\n\u001b[39;00m\u001b[39m ttotal: \u001b[39m\u001b[39m{\u001b[39;00m\u001b[39msum\u001b[39m(minutes)\u001b[39m}\u001b[39;00m\u001b[39m min\u001b[39m\u001b[39m\\n\u001b[39;00m\u001b[39m ftotal: \u001b[39m\u001b[39m{\u001b[39;00m\u001b[39msum\u001b[39m(fuel_reservoirs\u001b[39m.\u001b[39mvalues())\u001b[39m}\u001b[39;00m\u001b[39m\"\u001b[39m\n\u001b[1;32m----> 4\u001b[0m     \u001b[39mfor\u001b[39;00m t_name, gallo \u001b[39min\u001b[39;00m (fuel_reservoirs\u001b[39m.\u001b[39mvalues()):\n\u001b[0;32m      5\u001b[0m         main_report \u001b[39m+\u001b[39m\u001b[39m=\u001b[39m \u001b[39mf\u001b[39m\u001b[39m\"\u001b[39m\u001b[39m{\u001b[39;00mt_name\u001b[39m}\u001b[39;00m\u001b[39m tank \u001b[39m\u001b[39m{\u001b[39;00mgallo\u001b[39m}\u001b[39;00m\u001b[39m gall left\u001b[39m\u001b[39m\\n\u001b[39;00m\u001b[39m\"\u001b[39m\n\u001b[0;32m      6\u001b[0m     \u001b[39mreturn\u001b[39;00m main_report\n",
      "\u001b[1;31mTypeError\u001b[0m: cannot unpack non-iterable int object"
     ]
    }
   ],
   "source": [
    "def reporte_m2(destination, *minutes, **fuel_reservoirs):\n",
    "    main_report = f\"adonde {destination}\\n ttotal: {sum(minutes)} min\\n ftotal: {sum(fuel_reservoirs.values())}\"\n",
    "   \n",
    "    for t_name, gallo in fuel_reservoirs.values():\n",
    "        main_report += f\"{t_name} tank {gallo} gall left\\n\"\n",
    "    return main_report \n",
    "    \n",
    "print(reporte_m2(\"Moon\", 8, 11, 55, main=300000, external=200000))"
   ]
  }
 ],
 "metadata": {
  "interpreter": {
   "hash": "e16b9bd33e7041c0842013505aab8d96e59e427e4e0c80436ba1b7c1f34f93b5"
  },
  "kernelspec": {
   "display_name": "Python 3.9.10 64-bit",
   "language": "python",
   "name": "python3"
  },
  "language_info": {
   "codemirror_mode": {
    "name": "ipython",
    "version": 3
   },
   "file_extension": ".py",
   "mimetype": "text/x-python",
   "name": "python",
   "nbconvert_exporter": "python",
   "pygments_lexer": "ipython3",
   "version": "3.9.10"
  },
  "orig_nbformat": 4
 },
 "nbformat": 4,
 "nbformat_minor": 2
}
