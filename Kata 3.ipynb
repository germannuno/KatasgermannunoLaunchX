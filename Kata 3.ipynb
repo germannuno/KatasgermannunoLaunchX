{
 "cells": [
  {
   "cell_type": "code",
   "execution_count": 31,
   "metadata": {},
   "outputs": [
    {
     "name": "stdout",
     "output_type": "stream",
     "text": [
      "Aletrat asteroide se aproxima!\n"
     ]
    }
   ],
   "source": [
    "#Un asteroide se acerca, y viaja a una velocidad de 49 km/s\n",
    "asteroide = 49\n",
    "if asteroide>25:\n",
    "    print(\"Aletrat asteroide se aproxima!\")\n",
    "else:\n",
    "    print(\"asteroide irrelevante\")"
   ]
  },
  {
   "cell_type": "code",
   "execution_count": 38,
   "metadata": {},
   "outputs": [
    {
     "name": "stdout",
     "output_type": "stream",
     "text": [
      "el asteroide va demasiado lento como para generar un rayo de luz\n"
     ]
    }
   ],
   "source": [
    "asteroide = 19\n",
    "if asteroide >= 20:\n",
    "    print(\"mira arriba un rayo de luz provocado por un asteroide\")\n",
    "else:\n",
    "    print(\"el asteroide va demasiado lento como para generar un rayo de luz\")"
   ]
  },
  {
   "cell_type": "code",
   "execution_count": 41,
   "metadata": {},
   "outputs": [
    {
     "name": "stdout",
     "output_type": "stream",
     "text": [
      "cuidado asteroide preligroso acercandose\n"
     ]
    }
   ],
   "source": [
    "velocidad_asteroide = 25\n",
    "tamaño_asteroide = 40\n",
    "if tamaño_asteroide>25 or velocidad_asteroide>25:\n",
    "    print(\"cuidado asteroide preligroso acercandose\")\n",
    "elif velocidad_asteroide >= 20 and velocidad_asteroide < 25:\n",
    "    print(\"mira arriba un rayo de luz provocado por un asteroide\")\n",
    "elif tamaño_asteroide < 25:\n",
    "    print(\"nigun asteroide relevante\")\n",
    "else:\n",
    "    print(\"nigun asteroide relevante\")\n"
   ]
  }
 ],
 "metadata": {
  "interpreter": {
   "hash": "e16b9bd33e7041c0842013505aab8d96e59e427e4e0c80436ba1b7c1f34f93b5"
  },
  "kernelspec": {
   "display_name": "Python 3.9.10 64-bit",
   "language": "python",
   "name": "python3"
  },
  "language_info": {
   "codemirror_mode": {
    "name": "ipython",
    "version": 3
   },
   "file_extension": ".py",
   "mimetype": "text/x-python",
   "name": "python",
   "nbconvert_exporter": "python",
   "pygments_lexer": "ipython3",
   "version": "3.9.10"
  },
  "orig_nbformat": 4
 },
 "nbformat": 4,
 "nbformat_minor": 2
}
