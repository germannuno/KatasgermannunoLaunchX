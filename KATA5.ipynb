{
 "cells": [
  {
   "cell_type": "code",
   "execution_count": 6,
   "metadata": {},
   "outputs": [
    {
     "name": "stdout",
     "output_type": "stream",
     "text": [
      "628949330\n",
      "390577534\n"
     ]
    }
   ],
   "source": [
    "distancia_tierra=149597870\n",
    "distancia_jupiter=778547200\n",
    "resta=distancia_tierra-distancia_jupiter\n",
    "print(abs(resta))\n",
    "distancia_millas=resta*0.621\n",
    "print(round(abs(distancia_millas)))"
   ]
  },
  {
   "cell_type": "markdown",
   "metadata": {},
   "source": [
    "Ejercicio 2\n"
   ]
  },
  {
   "cell_type": "code",
   "execution_count": 9,
   "metadata": {},
   "outputs": [
    {
     "name": "stdout",
     "output_type": "stream",
     "text": [
      "628949330\n",
      "390577534\n"
     ]
    }
   ],
   "source": [
    "distancia_soltierra=input(\"cual es la distacia del sol con repecto a la tierra\")\n",
    "distancia_soljupiter=input(\"cual es la distancia del sol con respecto a jupiter\")\n",
    "resta_in=int(distancia_soltierra)-int(distancia_soljupiter)\n",
    "print(abs(resta_in))\n",
    "distancia_millasint=resta_in*0.621\n",
    "print(round(abs(distancia_millasint)))"
   ]
  }
 ],
 "metadata": {
  "interpreter": {
   "hash": "e16b9bd33e7041c0842013505aab8d96e59e427e4e0c80436ba1b7c1f34f93b5"
  },
  "kernelspec": {
   "display_name": "Python 3.9.10 64-bit",
   "language": "python",
   "name": "python3"
  },
  "language_info": {
   "codemirror_mode": {
    "name": "ipython",
    "version": 3
   },
   "file_extension": ".py",
   "mimetype": "text/x-python",
   "name": "python",
   "nbconvert_exporter": "python",
   "pygments_lexer": "ipython3",
   "version": "3.9.10"
  },
  "orig_nbformat": 4
 },
 "nbformat": 4,
 "nbformat_minor": 2
}
